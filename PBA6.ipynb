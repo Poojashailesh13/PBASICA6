{
 "cells": [
  {
   "cell_type": "raw",
   "id": "c81dddf4",
   "metadata": {},
   "source": [
    "1. What are escape characters, and how do you use them?\n",
    "ans- To insert characters that are illegal in a string, use an escape character. An escape character is a backslash \\ followed by the character you want to insert."
   ]
  },
  {
   "cell_type": "raw",
   "id": "0cfb1752",
   "metadata": {},
   "source": [
    "2. What do the escape characters n and t stand for?\n",
    "ans- In Python strings, the backslash “ ” is a special character, also called the “escape” character. It is used in representing certain whitespace characters: “\\t” is a tab, “\\n” is a new line,"
   ]
  },
  {
   "cell_type": "raw",
   "id": "0a6b152e",
   "metadata": {},
   "source": [
    "3. What is the way to include backslash characters in a string?\n",
    "ans- If you want an actual backslash in the string or regex, you have to write two: \\\\ . If you're using a string to create a regular expression (rather than using a regular expression literal as I did above), note that you're dealing with two levels: The string level, and the regular expression level."
   ]
  },
  {
   "cell_type": "raw",
   "id": "8fb11055",
   "metadata": {},
   "source": [
    "4. The string \"Howls Moving Castle\" is a correct value. Why isnt the single quote character in the\n",
    "word Howls not escaped a problem?\n",
    "ans- The single quote in Howl's is fine because you've used double quotes to mark the beginning and end of the string."
   ]
  },
  {
   "cell_type": "raw",
   "id": "f19852aa",
   "metadata": {},
   "source": [
    "5. How do you write a string of newlines if you dont want to use the n character?\n",
    "ans- You can print strings without adding a new line with end = <character> , which <character> is the character that will be used to separate the lines."
   ]
  },
  {
   "cell_type": "raw",
   "id": "5c21a171",
   "metadata": {},
   "source": [
    "6. What are the values of the given expressions?\n",
    "ans- 'Hello, world!'[1] = e\n",
    "'Hello, world!'[0:5] = 'Hello'\n",
    "'Hello, world!'[:5] = 'Hello'\n",
    "'Hello, world!'[3:] = 'lo, world!'\n",
    " "
   ]
  },
  {
   "cell_type": "raw",
   "id": "3fb6ab68",
   "metadata": {},
   "source": [
    "7. What are the values of the following expressions?\n",
    "ans- 'Hello'.upper() = 'HELLO'\n",
    "'Hello'.upper().isupper() = True\n",
    "'Hello'.upper().lower() = 'hello'\n"
   ]
  },
  {
   "cell_type": "raw",
   "id": "68946ba5",
   "metadata": {},
   "source": [
    "8. What are the values of the following expressions?\n",
    "ans- 'Remember, remember, the fifth of July.'.split() = ['Remember,', 'remember,', 'the', 'fifth', 'of', 'July.']\n",
    "'-'.join('There can only one.''.split()) = 'There-can-only-one.'"
   ]
  },
  {
   "cell_type": "raw",
   "id": "84372c49",
   "metadata": {},
   "source": [
    "9. What are the methods for right-justifying, left-justifying, and centering a string?\n",
    "ans- ljust,rjust,center"
   ]
  },
  {
   "cell_type": "raw",
   "id": "9f82e5f1",
   "metadata": {},
   "source": [
    "10. What is the best way to remove whitespace characters from the start or end?\n",
    "ans- By default, strip() function removes white spaces from start and end of the string and returns the same string without white spaces."
   ]
  }
 ],
 "metadata": {
  "kernelspec": {
   "display_name": "Python 3 (ipykernel)",
   "language": "python",
   "name": "python3"
  },
  "language_info": {
   "codemirror_mode": {
    "name": "ipython",
    "version": 3
   },
   "file_extension": ".py",
   "mimetype": "text/x-python",
   "name": "python",
   "nbconvert_exporter": "python",
   "pygments_lexer": "ipython3",
   "version": "3.9.7"
  }
 },
 "nbformat": 4,
 "nbformat_minor": 5
}
